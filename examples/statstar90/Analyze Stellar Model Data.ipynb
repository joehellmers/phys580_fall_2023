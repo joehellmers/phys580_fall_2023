{
 "cells": [
  {
   "cell_type": "code",
   "execution_count": null,
   "metadata": {},
   "outputs": [],
   "source": [
    "import pandas as pd"
   ]
  },
  {
   "cell_type": "code",
   "execution_count": null,
   "metadata": {},
   "outputs": [],
   "source": [
    "XSun=0.73\n",
    "ZSun=0.0122\n",
    "dex=0.02\n",
    "0.74*(ZSun/XSun)*10**(0.95*dex)"
   ]
  },
  {
   "cell_type": "code",
   "execution_count": null,
   "metadata": {},
   "outputs": [],
   "source": [
    "# Rigel (B8Ia)\n",
    "# M=23.0, T=12100, L=120000, X=0.73, Z=0.02, dex=-0.06\n",
    "df = pd.read_csv(\"results/model_B.dat\",index_col=False)\n",
    "df.plot(x='rScaled', y='T', title=\"Rigel (B8Ia) Temp vs. Radius\").invert_xaxis()\n",
    "df.plot(x='rScaled', y='LScaled', title=\"Rigel (B8Ia) Scaled Luminosity vs. Radius\").invert_xaxis()\n",
    "df.plot(x='rScaled', y='P',title=\"Rigel (B8Ia) Pressure vs. Radius\").invert_xaxis()"
   ]
  },
  {
   "cell_type": "code",
   "execution_count": null,
   "metadata": {},
   "outputs": [],
   "source": [
    "# S Monocerotis (O7V)\n",
    "# M=29.1, T=38500, L=214000, X=0.73, Z=0.02\n",
    "df = pd.read_csv(\"results/model_O.dat\",index_col=False)\n",
    "df.plot(x='rScaled', y='T', title=\"S Monocerotis (O7V) Temp vs. Radius\").invert_xaxis()\n",
    "df.plot(x='rScaled', y='LScaled', title=\"S Monocerotis (O7V) Scaled Luminosity vs. Radius\").invert_xaxis()\n",
    "df.plot(x='rScaled', y='P',title=\"S Monocerotis (O7V) Pressure vs. Radius\").invert_xaxis()"
   ]
  },
  {
   "cell_type": "code",
   "execution_count": null,
   "metadata": {},
   "outputs": [],
   "source": [
    "# Altair (A7V)\n",
    "# M=1.79, T=7700, L=10.6, X=0.73, Z=0.013\n",
    "df = pd.read_csv(\"results/model_Altair.dat\",index_col=False)\n",
    "df.plot(x='rScaled', y='T', title=\"Altair (A7V) Temp vs. Radius\").invert_xaxis()\n",
    "df.plot(x='rScaled', y='LScaled', title=\"Altair (A7V) Scaled Luminosity vs. Radius\").invert_xaxis()\n",
    "df.plot(x='rScaled', y='P',title=\"Altair (A7V) Pressure vs. Radius\").invert_xaxis()\n",
    "pd.options.display.max_rows = 999;\n",
    "df[['zone','rScaled','rc_flag','T','LScaled','P','dlnPdlnT']]\n"
   ]
  },
  {
   "cell_type": "code",
   "execution_count": null,
   "metadata": {},
   "outputs": [],
   "source": [
    "# The Sun (G2V)\n",
    "# M=1.0, L=1.0, X=0.73, Z=0.02, Y=0.25, dex=-0.20\n",
    "df = pd.read_csv(\"results/model_Sol2.dat\",index_col=False)\n",
    "df.plot(x='rScaled', y='T', title=\"The Sun (G2V) Temp vs. Radius\").invert_xaxis()\n",
    "df.plot(x='rScaled', y='LScaled', title=\"The Sun (G2V) Scaled Luminosity vs. Radius\").invert_xaxis()\n",
    "df.plot(x='rScaled', y='P',title=\"The Sun (G2V) Pressure vs. Radius\").invert_xaxis()\n",
    "df[['zone','rScaled','rc_flag','T','LScaled','P','dlnPdlnT']]"
   ]
  },
  {
   "cell_type": "code",
   "execution_count": null,
   "metadata": {},
   "outputs": [],
   "source": [
    "# Pollux (K0III)\n",
    "# M=1.91, T=4666, L=43.0, X=0.72, Z= 0.013, Dex=-0.07\n",
    "df = pd.read_csv(\"results/model_K2.dat\",index_col=False)\n",
    "df.plot(x='rScaled', y='T', title=\"Pollux(K0III) Temp vs. Radius\").invert_xaxis()\n",
    "df.plot(x='rScaled', y='LScaled', title=\"Pollux(K0III) Scaled Luminosity vs. Radius\").invert_xaxis()\n",
    "df.plot(x='rScaled', y='P',title=\"Pollux(K0III) Pressure vs. Radius\").invert_xaxis()"
   ]
  },
  {
   "cell_type": "code",
   "execution_count": null,
   "metadata": {},
   "outputs": [],
   "source": [
    "# Lalande 21185 (M2V)\n",
    "#M=0.46, T=3828, L=0.026, X=0.72, Z=0.013, dex=-0.20\n",
    "df = pd.read_csv(\"results/model_M2.dat\",index_col=False)\n",
    "df.plot(x='rScaled', y='T', title=\"Lalande 21185 (M2V) Temp vs. Radius\").invert_xaxis()\n",
    "df.plot(x='rScaled', y='LScaled', title=\"Lalande 21185 (M2V) Scaled Luminosity vs. Radius\").invert_xaxis()\n",
    "df.plot(x='rScaled', y='P',title=\"Lalande 21185 (M2V) Pressure vs. Radius\").invert_xaxis()"
   ]
  },
  {
   "cell_type": "code",
   "execution_count": null,
   "metadata": {},
   "outputs": [],
   "source": [
    "# Zeta Leonis (F0IIIa)\n",
    "#M=3.0, T=6792, L=85.0, X=0.74, Z=0.0189, dex=-0.03\n",
    "df = pd.read_csv(\"results/model_F2.dat\",index_col=False)\n",
    "df.plot(x='rScaled', y='T', title=\"Zeta Leonis (F0IIIa) Temp vs. Radius\").invert_xaxis()\n",
    "df.plot(x='rScaled', y='LScaled', title=\"Zeta Leonis (F0IIIa) Scaled Luminosity vs. Radius\").invert_xaxis()\n",
    "df.plot(x='rScaled', y='P',title=\"Zeta Leonis (F0IIIa) Pressure vs. Radius\").invert_xaxis()"
   ]
  },
  {
   "cell_type": "code",
   "execution_count": null,
   "metadata": {},
   "outputs": [],
   "source": [
    "# Vega (A0Va)\n",
    "#M=2.135, T=9602, L=40.12, X=0.74, Z=0.00679, dex=-0.50\n",
    "df = pd.read_csv(\"results/model_A2.dat\",index_col=False)\n",
    "df.plot(x='rScaled', y='T', title=\"Vega (A0Va) Temp vs. Radius\").invert_xaxis()\n",
    "df.plot(x='rScaled', y='LScaled', title=\"Vega (A0Va) Scaled Luminosity vs. Radius\").invert_xaxis()\n",
    "df.plot(x='rScaled', y='P',title=\"Vega (A0Va) Pressure vs. Radius\").invert_xaxis()\n",
    "# df[['zone','rScaled','rc_flag','T','LScaled','P','dlnPdlnT']]\n",
    "df.loc[df['rc_flag'] == 'c']"
   ]
  },
  {
   "cell_type": "code",
   "execution_count": null,
   "metadata": {},
   "outputs": [],
   "source": [
    "# S Monocerotis (O7V)\n",
    "# M=29.1, T=38500, L=214000, X=0.73, Z=0.02\n",
    "df = pd.read_csv(\"results/model_O.dat\",index_col=False)\n",
    "df.plot(x='rScaled', y='T', title=\"S Monocerotis (O7V) Temp vs. Radius\").invert_xaxis()\n",
    "df.plot(x='rScaled', y='LScaled', title=\"S Monocerotis (O7V) Scaled Luminosity vs. Radius\").invert_xaxis()\n",
    "df.plot(x='rScaled', y='P',title=\"S Monocerotis (O7V) Pressure vs. Radius\").invert_xaxis()\n",
    "df[['zone','rScaled','rc_flag','T','LScaled','P','dlnPdlnT']].loc[df['rc_flag'] == 'c']"
   ]
  },
  {
   "cell_type": "code",
   "execution_count": null,
   "metadata": {},
   "outputs": [],
   "source": [
    "# Epsilon Eridani (K2V)\n",
    "# M=0.82, T=5084, L=0.34, X=0.735, Z=0.015\n",
    "df = pd.read_csv(\"results/model_K.dat\",index_col=False)\n",
    "df.plot(x='rScaled', y='T', title=\"Epsilon Eridani (K2V) Temp vs. Radius\").invert_xaxis()\n",
    "df.plot(x='rScaled', y='LScaled', title=\"Epsilon Eridani (K2V) Scaled Luminosity vs. Radius\").invert_xaxis()\n",
    "df.plot(x='rScaled', y='P',title=\"Epsilon Eridani (K2V) Pressure vs. Radius\").invert_xaxis()\n",
    "df[['zone','rScaled','rc_flag','T','LScaled','P','dlnPdlnT']]"
   ]
  },
  {
   "cell_type": "code",
   "execution_count": null,
   "metadata": {},
   "outputs": [],
   "source": [
    "# Lacaille 8760 (M0Ve)\n",
    "# M=0.60, T=3800, L=0.072, X=0.745, Z=0.005\n",
    "df = pd.read_csv(\"results/model_M.dat\",index_col=False)\n",
    "df.plot(x='rScaled', y='T', title=\"Lacaille 8760 (M0Ve) Temp vs. Radius\").invert_xaxis()\n",
    "df.plot(x='rScaled', y='LScaled', title=\"Lacaille 8760 (M0Ve) Scaled Luminosity vs. Radius\").invert_xaxis()\n",
    "df.plot(x='rScaled', y='P',title=\"Lacaille 8760 (M0Ve) Pressure vs. Radius\").invert_xaxis()\n",
    "df[['zone','rScaled','rc_flag','T','LScaled','P','dlnPdlnT']]"
   ]
  },
  {
   "cell_type": "code",
   "execution_count": null,
   "metadata": {},
   "outputs": [],
   "source": [
    "# Eta Aurigae (B3V)\n",
    "# M=5.4, T=17201, L=955, X=0.73, Z=0.02\n",
    "df = pd.read_csv(\"results/model_B.dat\",index_col=False)\n",
    "df.plot(x='rScaled', y='T', title=\"Eta Aurigae (B3V) Temp vs. Radius\").invert_xaxis()\n",
    "df.plot(x='rScaled', y='LScaled', title=\"Eta Aurigae (B3V) Scaled Luminosity vs. Radius\").invert_xaxis()\n",
    "df.plot(x='rScaled', y='P',title=\"Eta Aurigae (B3V) Pressure vs. Radius\").invert_xaxis()\n",
    "#df[['zone','rScaled','rc_flag','T','LScaled','P','dlnPdlnT']]\n",
    "df[['zone','rScaled','rc_flag','T','LScaled','P','dlnPdlnT']].loc[df['rc_flag'] == 'c']"
   ]
  },
  {
   "cell_type": "code",
   "execution_count": null,
   "metadata": {},
   "outputs": [],
   "source": [
    "# PI3 Orionis (F6V)\n",
    "# M=1.236, T=6516, L=2.822, X=0.73, Z=0.02\n",
    "df = pd.read_csv(\"results/model_F.dat\",index_col=False)\n",
    "df.plot(x='rScaled', y='T', title=\"PI3 Orionis (F6V) Temp vs. Radius\").invert_xaxis()\n",
    "df.plot(x='rScaled', y='LScaled', title=\"PI3 Orionis (F6V) (M0Ve) Scaled Luminosity vs. Radius\").invert_xaxis()\n",
    "df.plot(x='rScaled', y='P',title=\"PI3 Orionis (F6V) (M0Ve) Pressure vs. Radius\").invert_xaxis()\n",
    "df[['zone','rScaled','rc_flag','T','LScaled','P','dlnPdlnT']]"
   ]
  },
  {
   "cell_type": "code",
   "execution_count": null,
   "metadata": {},
   "outputs": [],
   "source": [
    "from IPython.display import display, HTML, Image\n",
    "\n",
    "def Images(images, header=None, width=\"100%\"): # to match Image syntax\n",
    "    if type(width)==type(1): width = \"{}px\".format(width)\n",
    "    html = [\"<table style='width:{}'><tr>\".format(width)]\n",
    "    if header is not None:\n",
    "        html += [\"<th>{}</th>\".format(h) for h in header] + [\"</tr><tr>\"]\n",
    "\n",
    "    for image in images:\n",
    "        html.append(\"<td><img src='{}' /></td>\".format(image))\n",
    "    html.append(\"</tr></table>\")\n",
    "    display(HTML(''.join(html)))\n",
    "\n",
    "Images([\"../M_P.png\",\"../K_P.png\",\"../sun_P.png\"], width=\"100%\")\n",
    "Images([\"../F_P.png\",\"../A1_P.png\",\"../A2_P.png\"], width=\"100%\")\n",
    "Images([\"../B_P.png\",\"../O_P.png\"], width=\"67%\")"
   ]
  },
  {
   "cell_type": "code",
   "execution_count": null,
   "metadata": {},
   "outputs": [],
   "source": [
    "from IPython.display import display, HTML, Image\n",
    "\n",
    "def Images(images, header=None, width=\"100%\"): # to match Image syntax\n",
    "    if type(width)==type(1): width = \"{}px\".format(width)\n",
    "    html = [\"<table style='width:{}'><tr>\".format(width)]\n",
    "    if header is not None:\n",
    "        html += [\"<th>{}</th>\".format(h) for h in header] + [\"</tr><tr>\"]\n",
    "\n",
    "    for image in images:\n",
    "        html.append(\"<td><img src='{}' /></td>\".format(image))\n",
    "    html.append(\"</tr></table>\")\n",
    "    display(HTML(''.join(html)))\n",
    "\n",
    "Images([\"../M_T.png\",\"../K_T.png\",\"../sun_T.png\"], width=\"100%\")\n",
    "Images([\"../F_T.png\",\"../A1_T.png\",\"../A2_T.png\"], width=\"100%\")\n",
    "Images([\"../B_T.png\",\"../O_T.png\"], width=\"67%\")"
   ]
  },
  {
   "cell_type": "code",
   "execution_count": null,
   "metadata": {},
   "outputs": [],
   "source": []
  }
 ],
 "metadata": {
  "kernelspec": {
   "display_name": "Python 3 (ipykernel)",
   "language": "python",
   "name": "python3"
  },
  "language_info": {
   "codemirror_mode": {
    "name": "ipython",
    "version": 3
   },
   "file_extension": ".py",
   "mimetype": "text/x-python",
   "name": "python",
   "nbconvert_exporter": "python",
   "pygments_lexer": "ipython3",
   "version": "3.9.9"
  }
 },
 "nbformat": 4,
 "nbformat_minor": 2
}
